{
 "cells": [
  {
   "cell_type": "code",
   "execution_count": 2,
   "metadata": {},
   "outputs": [],
   "source": [
    "import random\n",
    "import math\n",
    "import numpy as np\n",
    "import matplotlib.pyplot as plt\n",
    "\n",
    "def generate_class_0(N):\n",
    "    m = [0,0]\n",
    "    C = [[2, 0],[0,1]]\n",
    "    return np.random.multivariate_normal(m, C, N)\n",
    "\n",
    "def generate_class_1(N):\n",
    "    m_A = [-2,1]\n",
    "    C_A = [[9.0/8, 7.0/8],[7.0/8, 9.0/8]]\n",
    "    m_B = [3,2]\n",
    "    C_B = [[2, 1],[1, 2]]\n",
    "    \n",
    "    pi_1 = 1.0/3\n",
    "    \n",
    "    x1 = np.zeros((N,2))\n",
    "    for i in range(0, N):\n",
    "        a = random.uniform(0, 1)\n",
    "        if (a < pi_1):\n",
    "            x1[i, :] = np.random.multivariate_normal(m_A, C_A, 1)\n",
    "        else:\n",
    "            x1[i, :] = np.random.multivariate_normal(m_B, C_B, 1)\n",
    "    return x1"
   ]
  },
  {
   "cell_type": "code",
   "execution_count": 70,
   "metadata": {},
   "outputs": [
    {
     "data": {
      "image/png": "[encoded data removed]",
      "text/plain": [
       "<matplotlib.figure.Figure at 0x1a1ad50a58>"
      ]
     },
     "metadata": {},
     "output_type": "display_data"
    }
   ],
   "source": [
    "N = 10 # Number of samples\n",
    "\n",
    "# Class 0, N/2 samples\n",
    "x0 = generate_class_0(math.floor(N/2))\n",
    "plt.scatter(x0[:, 0],x0[:, 1], label='Class 0', c='red', s=5)\n",
    "\n",
    "# Class 1, N/2 samples\n",
    "x1 = generate_class_1(math.floor(N/2))\n",
    "plt.scatter(x1[:, 0],x1[:, 1], label='Class 1', c='grey', s=5)\n",
    "\n",
    "legend = plt.legend(loc='upper left', shadow=True, fontsize='x-large')\n",
    "plt.axis('equal')\n",
    "plt.show()"
   ]
  },
  {
   "cell_type": "code",
   "execution_count": 71,
   "metadata": {},
   "outputs": [],
   "source": [
    "x_train = np.concatenate([x0, x1])\n",
    "y = np.append(np.zeros(int(N/2)), np.ones(int(N/2)))\n",
    "\n",
    "# Shuffle the data\n",
    "ind_perm = np.random.permutation(len(y))\n",
    "x_train = x_train[ind_perm, :]\n",
    "y = y[ind_perm]"
   ]
  },
  {
   "cell_type": "markdown",
   "metadata": {},
   "source": [
    "# 1) SVM"
   ]
  },
  {
   "cell_type": "code",
   "execution_count": 72,
   "metadata": {},
   "outputs": [],
   "source": [
    "# Scale the data\n",
    "from sklearn.preprocessing import StandardScaler\n",
    "scaler = StandardScaler()\n",
    "x_train_scaled = scaler.fit_transform(x_train, y)\n",
    "\n",
    "# Classify class 0 as class -1\n",
    "y[y == 0] = -1\n",
    "\n",
    "# Use external implementation of the SMO algorithm\n",
    "# http://jonchar.net/notebooks/SVM/\n",
    "from SVM import SMOModel, gaussian_kernel, decision_function, train, plot_decision_boundary\n",
    "\n",
    "# Set model parameters and initial values\n",
    "C = 1.0\n",
    "m = len(x_train)\n",
    "initial_alphas = np.zeros(m)\n",
    "initial_b = 0.0\n",
    "\n",
    "# Set tolerances\n",
    "tol = 0.01 # error tolerance\n",
    "eps = 0.01 # alpha tolerance\n",
    "\n",
    "# Instantiate model\n",
    "model = SMOModel(x_train, y, C, gaussian_kernel,\n",
    "                 initial_alphas, initial_b, np.zeros(m))\n",
    "\n",
    "# Initialize error cache\n",
    "initial_error = decision_function(model.alphas, model.y, model.kernel,\n",
    "                                  model.X, model.X, model.b) - model.y\n",
    "model.errors = initial_error"
   ]
  },
  {
   "cell_type": "markdown",
   "metadata": {},
   "source": [
    "## 1.1) Plot of the decision boundaries, and display of the support vectors"
   ]
  },
  {
   "cell_type": "code",
   "execution_count": 73,
   "metadata": {},
   "outputs": [
    {
     "data": {
      "image/png": "[encoded data removed]",
      "text/plain": [
       "<matplotlib.figure.Figure at 0x1a1ac7f7f0>"
      ]
     },
     "metadata": {},
     "output_type": "display_data"
    }
   ],
   "source": [
    "output = train(model)\n",
    "fig, ax = plt.subplots(figsize=(8,8))\n",
    "grid, ax = plot_decision_boundary(output, ax)"
   ]
  },
  {
   "cell_type": "markdown",
   "metadata": {},
   "source": [
    "The plot above shows the two classes (class 0 in red, and class 1 in grey), with the decision boundary. Points that also have a black dot are support vectors."
   ]
  },
  {
   "cell_type": "code",
   "execution_count": 74,
   "metadata": {},
   "outputs": [
    {
     "name": "stdout",
     "output_type": "stream",
     "text": [
      "Fraction of training data points that are support vectors:\n",
      "1.0\n"
     ]
    }
   ],
   "source": [
    "# Support vectors have non-zero alphas\n",
    "mask = model.alphas != 0.0\n",
    "frac_support_vectors = len(model.X[:,0][mask]) / len(model.X[:,0])\n",
    "\n",
    "print(\"Fraction of training data points that are support vectors:\")\n",
    "print(frac_support_vectors)"
   ]
  },
  {
   "cell_type": "markdown",
   "metadata": {},
   "source": [
    "## 1.2) Comparison of misclassification performance between SVM and kernelized logistic regression"
   ]
  },
  {
   "cell_type": "code",
   "execution_count": 75,
   "metadata": {},
   "outputs": [
    {
     "name": "stdout",
     "output_type": "stream",
     "text": [
      "Probability of incorrect classification:\n",
      "0.0\n"
     ]
    }
   ],
   "source": [
    "classified_points = [decision_function(model.alphas, model.y,\n",
    "                               model.kernel, model.X,\n",
    "                               np.array(x), model.b) for x in model.X]\n",
    "classified_points = np.array(classified_points).reshape(len(model.X[:, 0]), 1)\n",
    "        \n",
    "classified_points[classified_points < 0] = -1\n",
    "classified_points[classified_points > 0] = 1\n",
    "\n",
    "misclassification_error = 0\n",
    "for i in range(len(y)):\n",
    "    if classified_points[i] != y[i]:\n",
    "        misclassification_error += 1        \n",
    "\n",
    "print(\"Probability of incorrect classification:\")\n",
    "print(misclassification_error / len(y))"
   ]
  },
  {
   "cell_type": "markdown",
   "metadata": {},
   "source": [
    "For kernelized regression we got a misclassification error probability of about ~0.15, which is very similar to that of the error probability for SVM above."
   ]
  },
  {
   "cell_type": "markdown",
   "metadata": {},
   "source": [
    "# 2) Adaboost"
   ]
  },
  {
   "cell_type": "markdown",
   "metadata": {},
   "source": [
    "*AdaBoost (Freund & Schapire 1997)*"
   ]
  },
  {
   "cell_type": "code",
   "execution_count": 3,
   "metadata": {},
   "outputs": [],
   "source": [
    "# TODO: Remove this cell\n",
    "N = 10 # Number of samples\n",
    "\n",
    "# Class 0, N/2 samples\n",
    "x0 = generate_class_0(math.floor(N/2))\n",
    "# Class 1, N/2 samples\n",
    "x1 = generate_class_1(math.floor(N/2))\n",
    "\n",
    "x_train = np.concatenate([x0, x1])\n",
    "y = np.append(np.zeros(int(N/2)), np.ones(int(N/2)))\n",
    "\n",
    "# Shuffle the data\n",
    "ind_perm = np.random.permutation(len(y))\n",
    "x_train = x_train[ind_perm, :]\n",
    "y = y[ind_perm]"
   ]
  },
  {
   "cell_type": "code",
   "execution_count": 56,
   "metadata": {},
   "outputs": [
    {
     "name": "stdout",
     "output_type": "stream",
     "text": [
      "val,  [ 1.34060396 12.06543567]\n",
      "C,  [1. 1. 1. 1. 1. 1. 1. 1. 1. 1.]\n"
     ]
    }
   ],
   "source": [
    "from sklearn.tree import DecisionTreeClassifier\n",
    "\n",
    "n = N\n",
    "M = 5\n",
    "T = DecisionTreeClassifier(max_depth=1, random_state=1)\n",
    "\n",
    "# 1. Initialize the observation weights\n",
    "w = np.ones(n) / n\n",
    "prediction = np.zeros(n)\n",
    "\n",
    "# 2.\n",
    "for m in range(M):\n",
    "    # a) \n",
    "    T.fit(x_train, y, sample_weight=w)\n",
    "    prediction_i = T.predict(x_train)\n",
    "    \n",
    "    # b)\n",
    "    I = [int(x) for x in (prediction_i != y)]\n",
    "    err_m = (np.dot(w, I)) / np.sum(w)\n",
    "    \n",
    "    I_new = [x if x==1 else -1 for x in I] # Update weights with +1/-1\n",
    "    \n",
    "    # c)\n",
    "    alpha_m = np.log( (1 - err_m) / float(err_m) )\n",
    "\n",
    "    # d)\n",
    "    w = np.multiply(w, np.exp([alpha_m * float(x) for x in I]))\n",
    "    \n",
    "    # e)\n",
    "    prediction[i]\n",
    "    \n",
    "    \n",
    "# 3. Output\n",
    "\n",
    "\n",
    "\n",
    "C = np.zeros(n)\n",
    "for i in range(N):\n",
    "    val = np.zeros(2)\n",
    "    for k in [0, 1]:\n",
    "        I = [int(x) for x in (prediction_i == k)]\n",
    "        val[k] = np.sum(alpha_m * float(x) for x in I)\n",
    "    C[i] = np.argmax(val)\n",
    "\n",
    "print(\"val, \", val)\n",
    "print(\"C, \", C)"
   ]
  },
  {
   "cell_type": "code",
   "execution_count": 20,
   "metadata": {},
   "outputs": [
    {
     "name": "stdout",
     "output_type": "stream",
     "text": [
      "[1.7208307779916296, 0.8714947505286998, 1.2977361251088064, 0.8714947505286998, 1.3761836245991006, 0.8855177562619276, 1.3761836245991006, 0.8714947505286998, 1.294589403411523, 0.8714947505286998]\n"
     ]
    }
   ],
   "source": [
    "clf = DecisionTreeClassifier(max_depth=1, random_state=1)\n",
    "pred_train = np.zeros(n)\n",
    "\n",
    "for i in range(M):\n",
    "    # Fit a classifier with the specific weights\n",
    "    clf.fit(x_train, y, sample_weight = w)\n",
    "    pred_train_i = clf.predict(x_train)\n",
    "    # Indicator function\n",
    "    miss = [int(x) for x in (pred_train_i != y)]\n",
    "    # Equivalent with 1/-1 to update weights\n",
    "    miss2 = [x if x==1 else -1 for x in miss]\n",
    "    # Error\n",
    "    err_m = np.dot(w,miss) / sum(w)\n",
    "    # Alpha\n",
    "    alpha_m = 0.5 * np.log( (1 - err_m) / float(err_m))\n",
    "    # New weights\n",
    "    w = np.multiply(w, np.exp([float(x) * alpha_m for x in miss2]))\n",
    "    # Add to prediction\n",
    "    pred_train = [sum(x) for x in zip(pred_train, \n",
    "                                      [x * alpha_m for x in pred_train_i])]\n",
    "    \n",
    "print(pred_train)"
   ]
  },
  {
   "cell_type": "markdown",
   "metadata": {},
   "source": [
    "## SK-learn implementation"
   ]
  },
  {
   "cell_type": "code",
   "execution_count": 26,
   "metadata": {},
   "outputs": [
    {
     "data": {
      "image/png": "[encoded data removed]",
      "text/plain": [
       "<matplotlib.figure.Figure at 0x1a1683eb70>"
      ]
     },
     "metadata": {},
     "output_type": "display_data"
    }
   ],
   "source": [
    "\n",
    "from sklearn.ensemble import AdaBoostClassifier\n",
    "from sklearn.tree import DecisionTreeClassifier\n",
    "from sklearn.datasets import make_gaussian_quantiles\n",
    "\n",
    "# Create and fit an AdaBoosted decision tree\n",
    "bdt = AdaBoostClassifier(DecisionTreeClassifier(max_depth=1),\n",
    "                         algorithm=\"SAMME\",\n",
    "                         n_estimators=5)\n",
    "\n",
    "bdt.fit(x_train, y)\n",
    "\n",
    "plot_colors = \"br\"\n",
    "plot_step = 0.02\n",
    "class_names = \"AB\"\n",
    "\n",
    "plt.figure(figsize=(10, 5))\n",
    "\n",
    "# Plot the decision boundaries\n",
    "plt.subplot(121)\n",
    "x_min, x_max = X[:, 0].min() - 1, X[:, 0].max() + 1\n",
    "y_min, y_max = X[:, 1].min() - 1, X[:, 1].max() + 1\n",
    "xx, yy = np.meshgrid(np.arange(x_min, x_max, plot_step),\n",
    "                     np.arange(y_min, y_max, plot_step))\n",
    "\n",
    "Z = bdt.predict(np.c_[xx.ravel(), yy.ravel()])\n",
    "Z = Z.reshape(xx.shape)\n",
    "cs = plt.contourf(xx, yy, Z, cmap=plt.cm.Paired)\n",
    "plt.axis(\"tight\")\n",
    "\n",
    "# Plot the training points\n",
    "for i, n, c in zip(range(2), class_names, plot_colors):\n",
    "    idx = np.where(y == i)\n",
    "    plt.scatter(x_train[idx, 0], x_train[idx, 1],\n",
    "                c=c, cmap=plt.cm.Paired,\n",
    "                s=20, edgecolor='k',\n",
    "                label=\"Class %s\" % n)\n",
    "plt.xlim(x_min, x_max)\n",
    "plt.ylim(y_min, y_max)\n",
    "plt.legend(loc='upper right')\n",
    "plt.xlabel('x')\n",
    "plt.ylabel('y')\n",
    "plt.title('Decision Boundary')\n",
    "\n",
    "plt.tight_layout()\n",
    "plt.subplots_adjust(wspace=0.35)\n",
    "plt.show()"
   ]
  },
  {
   "cell_type": "markdown",
   "metadata": {},
   "source": [
    "## 2.1) Plot of the decision boundaries"
   ]
  }
 ],
 "metadata": {
  "kernelspec": {
   "display_name": "Python 3",
   "language": "python",
   "name": "python3"
  },
  "language_info": {
   "codemirror_mode": {
    "name": "ipython",
    "version": 3
   },
   "file_extension": ".py",
   "mimetype": "text/x-python",
   "name": "python",
   "nbconvert_exporter": "python",
   "pygments_lexer": "ipython3",
   "version": "3.6.4"
  }
 },
 "nbformat": 4,
 "nbformat_minor": 2
}
