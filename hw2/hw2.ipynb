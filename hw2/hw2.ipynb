{
 "cells": [
  {
   "cell_type": "markdown",
   "metadata": {},
   "source": [
    "# Homework 1 - An Introduction to TensorFlow\n",
    "## Name: Sondre Kongsgaard\n",
    "## Homework group: Anders Vagle, Brage Saether, Morten Lie"
   ]
  },
  {
   "cell_type": "code",
   "execution_count": 1,
   "metadata": {},
   "outputs": [],
   "source": [
    "import random\n",
    "import math\n",
    "import numpy as np\n",
    "import matplotlib.pyplot as plt\n",
    "import tensorflow as tf\n",
    "#from scipy.stats import multivariate_normal\n",
    "#from numpy.linalg import inv\n",
    "\n",
    "N = 2000 # Number of samples\n",
    "\n",
    "def generate_class_0(N):\n",
    "    m = [0,0]\n",
    "    C = [[2, 0],[0,1]]\n",
    "    return np.random.multivariate_normal(m, C, N).T\n",
    "\n",
    "def generate_class_1(N):\n",
    "    m_A = [-2,1]\n",
    "    C_A = [[9.0/8, 7.0/8],[7.0/8, 9.0/8]]\n",
    "    m_B = [3,2]\n",
    "    C_B = [[2, 1],[1, 2]]\n",
    "    \n",
    "    x1 = np.zeros((2,N))\n",
    "    for i in range(0, N):\n",
    "        a = random.uniform(0, 1)\n",
    "        if (a < 1.0/3):\n",
    "            x1[:,i] = np.random.multivariate_normal(m_A, C_A, 1)\n",
    "        else:\n",
    "            x1[:,i] = np.random.multivariate_normal(m_B, C_B, 1)\n",
    "    return x1"
   ]
  },
  {
   "cell_type": "code",
   "execution_count": 2,
   "metadata": {},
   "outputs": [
    {
     "data": {
      "image/png": "[encoded data removed]",
      "text/plain": [
       "<Figure size 432x288 with 1 Axes>"
      ]
     },
     "metadata": {},
     "output_type": "display_data"
    }
   ],
   "source": [
    "# Class 0, N/2 samples\n",
    "x0 = generate_class_0(math.floor(N/2))\n",
    "plt.scatter(x0[0],x0[1])\n",
    "plt.axis('equal')\n",
    "plt.show()"
   ]
  },
  {
   "cell_type": "code",
   "execution_count": 3,
   "metadata": {},
   "outputs": [
    {
     "data": {
      "image/png": "[encoded data removed]",
      "text/plain": [
       "<Figure size 432x288 with 1 Axes>"
      ]
     },
     "metadata": {},
     "output_type": "display_data"
    }
   ],
   "source": [
    "# Class 1, N/2 samples\n",
    "x1 = generate_class_1(math.floor(N/2))\n",
    "plt.scatter(x1[0], x1[1])\n",
    "plt.axis('equal')\n",
    "plt.show()"
   ]
  },
  {
   "cell_type": "code",
   "execution_count": 4,
   "metadata": {
    "scrolled": true
   },
   "outputs": [],
   "source": [
    "# Split the generated data into training, test and validation sets\n",
    "ratio_training = 0.7\n",
    "ratio_test = 0.2\n",
    "ratio_validation = 0.1\n",
    "\n",
    "x0_training = x0[:,0:math.floor(ratio_training*N/2)]\n",
    "x0_test = x0[:,math.floor(ratio_training*N/2):(math.floor(ratio_training*N/2)+math.floor(ratio_test*N/2))]\n",
    "x0_validation = x0[:,(math.floor(ratio_training*N/2)+math.floor(ratio_test*N/2)):]\n",
    "\n",
    "x1_training = x1[:,0:math.floor(ratio_training*N/2)]\n",
    "x1_test = x1[:,math.floor(ratio_training*N/2):(math.floor(ratio_training*N/2)+math.floor(ratio_test*N/2))]\n",
    "x1_validation = x1[:,(math.floor(ratio_training*N/2)+math.floor(ratio_test*N/2)):]\n",
    "\n",
    "# Combine the data from the two classes, and add labels\n",
    "x_training = np.concatenate([x0_training, x1_training], axis=1)\n",
    "x_test = np.concatenate([x0_test, x1_test], axis=1)\n",
    "x_validation = np.concatenate([x0_validation, x1_validation], axis=1)\n",
    "\n",
    "y_training = np.append(np.zeros(math.floor(ratio_training*N/2)), np.ones(math.floor(ratio_training*N/2)))\n",
    "y_test = np.append(np.zeros(math.floor(ratio_test*N/2)), np.ones(math.floor(ratio_test*N/2)))\n",
    "y_validation = np.append(np.zeros(math.floor(ratio_validation*N/2)), np.ones(math.floor(ratio_validation*N/2)))\n",
    "\n",
    "# Shuffle the generated data\n",
    "ind_perm_training = np.random.permutation(len(y_training))\n",
    "ind_perm_test = np.random.permutation(len(y_test))\n",
    "ind_perm_validation = np.random.permutation(len(y_validation))\n",
    "\n",
    "x_training = x_training[:,ind_perm_training]\n",
    "x_test = x_test[:,ind_perm_test]\n",
    "x_validation = x_validation[:,ind_perm_validation]\n",
    "\n",
    "y_training = y_training[ind_perm_training]\n",
    "y_test = y_test[ind_perm_test]\n",
    "y_validation = y_validation[ind_perm_validation]"
   ]
  },
  {
   "cell_type": "markdown",
   "metadata": {},
   "source": [
    "# 1a) Fully connected neural network with _1_ hidden layer\n",
    "## ReLU nonlinearities are used in the layers, a sigmoid at the output, and with binary cross entropy as the loss function"
   ]
  },
  {
   "cell_type": "code",
   "execution_count": null,
   "metadata": {},
   "outputs": [],
   "source": []
  },
  {
   "cell_type": "markdown",
   "metadata": {},
   "source": [
    "# 1b) Fully connected neural network with _2_ hidden layer\n",
    "## ReLU nonlinearities are used in the layers, a sigmoid at the output, and with binary cross entropy as the loss function"
   ]
  },
  {
   "cell_type": "code",
   "execution_count": 5,
   "metadata": {},
   "outputs": [],
   "source": [
    "# Fully connected neural network with 2 hidden layers\n",
    "# ReLU nonlinearities are used in the layers, a sigmoid at the output,\n",
    "# and with binary cross entropy as the loss function\n",
    "\n",
    "# Parameters\n",
    "learning_rate = 0.01\n",
    "num_steps = int(N*0.7)\n",
    "num_epochs = 20\n",
    "batch_size = 10\n",
    "\n",
    "# Network Parameters\n",
    "n_hidden_1 = 10 # 1st layer number of neurons\n",
    "n_hidden_2 = 10 # 2nd layer number of neurons\n",
    "num_input = 2\n",
    "num_classes = 1\n",
    "\n",
    "# tf Graph input\n",
    "X = tf.placeholder(\"float\", [None, num_input])\n",
    "Y = tf.placeholder(\"float\", [None, num_classes])\n",
    "\n",
    "# Store layers weight & bias\n",
    "weights = {\n",
    "    'h1': tf.Variable(tf.random_normal([num_input, n_hidden_1])),\n",
    "    'h2': tf.Variable(tf.random_normal([n_hidden_1, n_hidden_2])),\n",
    "    'out': tf.Variable(tf.random_normal([n_hidden_2, num_classes]))\n",
    "}\n",
    "biases = {\n",
    "    'b1': tf.Variable(tf.random_normal([n_hidden_1])),\n",
    "    'b2': tf.Variable(tf.random_normal([n_hidden_2])),\n",
    "    'out': tf.Variable(tf.random_normal([num_classes]))\n",
    "}"
   ]
  },
  {
   "cell_type": "code",
   "execution_count": 6,
   "metadata": {},
   "outputs": [],
   "source": [
    "# Create model\n",
    "def neural_net(x):\n",
    "    # Hidden fully connected layer with 10 neurons\n",
    "    layer_1 = tf.add(tf.matmul(x, weights['h1']), biases['b1'])\n",
    "    # Add ReLU nonlinearity\n",
    "    layer_1 = tf.nn.relu(layer_1)\n",
    "    \n",
    "    # Hidden fully connected layer with 10 neurons\n",
    "    layer_2 = tf.add(tf.matmul(layer_1, weights['h2']), biases['b2'])\n",
    "    # Add ReLU nonlinearity\n",
    "    layer_2 = tf.nn.relu(layer_2)\n",
    "    \n",
    "    # Output fully connected layer with a neuron for each class\n",
    "    out_layer = tf.matmul(layer_2, weights['out']) + biases['out']\n",
    "    return out_layer"
   ]
  },
  {
   "cell_type": "code",
   "execution_count": 7,
   "metadata": {},
   "outputs": [],
   "source": [
    "# Construct model\n",
    "logits = neural_net(X)\n",
    "prediction = tf.nn.sigmoid(logits)\n",
    "prediction = tf.cast(tf.greater(prediction, 1/2), tf.float32)\n",
    "\n",
    "# Define loss and optimizer\n",
    "loss_op = tf.reduce_mean(tf.nn.sigmoid_cross_entropy_with_logits(\n",
    "    logits=logits, labels=Y))\n",
    "optimizer = tf.train.AdamOptimizer(learning_rate=learning_rate)\n",
    "train_op = optimizer.minimize(loss_op)\n",
    "\n",
    "# Evaluate model (with test logits, for dropout to be disabled)\n",
    "correct_pred = tf.equal(prediction, Y)\n",
    "accuracy = tf.reduce_mean(tf.cast(correct_pred, tf.float32))\n",
    "\n",
    "# Initialize the variables (i.e. assign their default value)\n",
    "init = tf.global_variables_initializer()"
   ]
  },
  {
   "cell_type": "code",
   "execution_count": 8,
   "metadata": {},
   "outputs": [
    {
     "name": "stdout",
     "output_type": "stream",
     "text": [
      "Optimization Finished!\n",
      "Testing Accuracy: 0.84\n",
      "Validation Accuracy: 0.865\n"
     ]
    }
   ],
   "source": [
    "# Start training\n",
    "with tf.Session() as sess:\n",
    "\n",
    "    # Run the initializer\n",
    "    sess.run(init)\n",
    "\n",
    "    for epoch in range(1, num_epochs+1):\n",
    "        for batch in range(0, num_steps, batch_size):\n",
    "            batch_x = x_training[:,batch:batch+batch_size].T\n",
    "            batch_y = y_training[batch:batch+batch_size].reshape([-1,1])\n",
    "            \n",
    "            # Run optimization op (backprop)\n",
    "            sess.run(train_op, feed_dict={X: batch_x, Y: batch_y})\n",
    "            \n",
    "            # Calculate batch loss and accuracy\n",
    "            loss, acc = sess.run([loss_op, accuracy], feed_dict={X: batch_x,\n",
    "                                                                 Y: batch_y})\n",
    "            \n",
    "            \"\"\"\n",
    "            print(\"Epoch \" + str(epoch) + \", batch: \" + str(batch/batch_size + 1) + \\\n",
    "                  \", Minibatch Loss = \" + \"{:.4f}\".format(loss) + \\\n",
    "                  \", Training Accuracy = \" + \"{:.3f}\".format(100*acc))\n",
    "            \"\"\"\n",
    "\n",
    "    print(\"Optimization Finished!\")\n",
    "\n",
    "    # Calculate accuracy for test data\n",
    "    print(\"Testing Accuracy:\", \\\n",
    "        sess.run(accuracy, feed_dict={X: x_test.T,\n",
    "                                      Y: y_test.reshape([-1,1])}))\n",
    "    \n",
    "    print(\"Validation Accuracy:\", \\\n",
    "        sess.run(accuracy, feed_dict={X: x_validation.T,\n",
    "                                      Y: y_validation.reshape([-1,1])}))"
   ]
  }
 ],
 "metadata": {
  "kernelspec": {
   "display_name": "Python 3",
   "language": "python",
   "name": "python3"
  },
  "language_info": {
   "codemirror_mode": {
    "name": "ipython",
    "version": 3
   },
   "file_extension": ".py",
   "mimetype": "text/x-python",
   "name": "python",
   "nbconvert_exporter": "python",
   "pygments_lexer": "ipython3",
   "version": "3.6.5"
  }
 },
 "nbformat": 4,
 "nbformat_minor": 2
}
